{
 "cells": [
  {
   "cell_type": "code",
   "execution_count": 1,
   "metadata": {},
   "outputs": [
    {
     "name": "stderr",
     "output_type": "stream",
     "text": [
      "/Users/gbotemi/miniconda3/envs/pypsa-earth/lib/python3.10/site-packages/pypsa/networkclustering.py:16: UserWarning: The namespace `pypsa.networkclustering` is deprecated and will be removed in PyPSA v0.24. Please use `pypsa.clustering.spatial instead`. \n",
      "  warnings.warn(\n"
     ]
    }
   ],
   "source": [
    "import pypsa"
   ]
  },
  {
   "cell_type": "code",
   "execution_count": 2,
   "metadata": {},
   "outputs": [
    {
     "name": "stderr",
     "output_type": "stream",
     "text": [
      "/Users/gbotemi/miniconda3/envs/pypsa-earth/lib/python3.10/site-packages/pypsa/components.py:318: FutureWarning: Setting an item of incompatible dtype is deprecated and will raise an error in a future version of pandas. Value '[]' has dtype incompatible with float64, please explicitly cast to a compatible dtype first.\n",
      "  attrs.loc[bool_b, \"default\"] = attrs.loc[bool_b].isin({True, \"True\"})\n",
      "/Users/gbotemi/miniconda3/envs/pypsa-earth/lib/python3.10/site-packages/pypsa/components.py:318: FutureWarning: Setting an item of incompatible dtype is deprecated and will raise an error in a future version of pandas. Value '[]' has dtype incompatible with float64, please explicitly cast to a compatible dtype first.\n",
      "  attrs.loc[bool_b, \"default\"] = attrs.loc[bool_b].isin({True, \"True\"})\n",
      "/Users/gbotemi/miniconda3/envs/pypsa-earth/lib/python3.10/site-packages/pypsa/components.py:318: FutureWarning: Setting an item of incompatible dtype is deprecated and will raise an error in a future version of pandas. Value '[]' has dtype incompatible with float64, please explicitly cast to a compatible dtype first.\n",
      "  attrs.loc[bool_b, \"default\"] = attrs.loc[bool_b].isin({True, \"True\"})\n",
      "/Users/gbotemi/miniconda3/envs/pypsa-earth/lib/python3.10/site-packages/pypsa/components.py:318: FutureWarning: Setting an item of incompatible dtype is deprecated and will raise an error in a future version of pandas. Value '[]' has dtype incompatible with float64, please explicitly cast to a compatible dtype first.\n",
      "  attrs.loc[bool_b, \"default\"] = attrs.loc[bool_b].isin({True, \"True\"})\n"
     ]
    }
   ],
   "source": [
    "# initialize network\n",
    "n = pypsa.Network()"
   ]
  },
  {
   "cell_type": "code",
   "execution_count": 3,
   "metadata": {},
   "outputs": [],
   "source": [
    "# add carriers\n",
    "n.add(\"Carrier\", \"heat\")\n",
    "n.add(\"Carrier\", \"AC\")\n",
    "\t"
   ]
  },
  {
   "cell_type": "code",
   "execution_count": 4,
   "metadata": {},
   "outputs": [],
   "source": [
    "\n",
    "# add buses\n",
    "n.add(\"Bus\", \"csp_internal_bus\", carrier=\"heat\", v_nom=20.0)\n",
    "n.add(\"Bus\", \"electricity_bus\", carrier=\"AC\", v_nom=18.0)"
   ]
  },
  {
   "cell_type": "code",
   "execution_count": 5,
   "metadata": {},
   "outputs": [],
   "source": [
    "n.add(\"Store\", \"salt_tank\", bus=\"csp_internal_bus\", standing_loss=0.5, marginal_cost=2000)"
   ]
  },
  {
   "cell_type": "code",
   "execution_count": 6,
   "metadata": {},
   "outputs": [],
   "source": [
    "# add generator and store\n",
    "n.add(\"Generator\", \"receiver\", bus=\"csp_internal_bus\", p_set=100, marginal_cost=2000)"
   ]
  },
  {
   "cell_type": "code",
   "execution_count": 7,
   "metadata": {},
   "outputs": [],
   "source": [
    "\n",
    "# add links\n",
    "n.add(\"Link\", \"heat_exchanger\", bus0=\"csp_internal_bus\", bus1=\"electricity_bus\", efficiency=0.6)"
   ]
  },
  {
   "cell_type": "code",
   "execution_count": 8,
   "metadata": {},
   "outputs": [],
   "source": [
    "\n",
    "#add another generator for the electricity bus\n",
    "n.add(\"Generator\", \"steam_electricity\", bus=\"electricity_bus\", p_set=100, marginal_cost=7000)\n"
   ]
  },
  {
   "cell_type": "code",
   "execution_count": 9,
   "metadata": {},
   "outputs": [],
   "source": [
    "\n",
    "# add load\n",
    "n.add(\"Load\", \"external_load\", bus=\"electricity_bus\", p_set=100)"
   ]
  },
  {
   "cell_type": "code",
   "execution_count": 10,
   "metadata": {},
   "outputs": [
    {
     "data": {
      "text/plain": [
       "PyPSA Network\n",
       "Components:\n",
       " - Bus: 2\n",
       " - Carrier: 2\n",
       " - Generator: 2\n",
       " - Link: 1\n",
       " - Load: 1\n",
       " - Store: 1\n",
       "Snapshots: 1"
      ]
     },
     "execution_count": 10,
     "metadata": {},
     "output_type": "execute_result"
    }
   ],
   "source": [
    "n"
   ]
  },
  {
   "cell_type": "code",
   "execution_count": 12,
   "metadata": {},
   "outputs": [
    {
     "name": "stderr",
     "output_type": "stream",
     "text": [
      "/Users/gbotemi/miniconda3/envs/pypsa-earth/lib/python3.10/site-packages/pypsa/optimization/constraints.py:516: FutureWarning: DataFrame.groupby with axis=1 is deprecated. Do `frame.T.groupby(...)` without axis instead.\n",
      "  (-get_as_dense(n, \"Load\", \"p_set\", sns) * n.loads.sign)\n",
      "INFO:linopy.model: Solve problem using Glpk solver\n",
      "INFO:linopy.io: Writing time: 0.02s\n",
      "WARNING:linopy.constants:Optimization failed: \n",
      "Status: warning\n",
      "Termination condition: infeasible_or_unbounded\n",
      "Solution: 0 primals, 0 duals\n",
      "Objective: nan\n",
      "Solver model: not available\n",
      "Solver message: undefined\n",
      "\n"
     ]
    },
    {
     "name": "stdout",
     "output_type": "stream",
     "text": [
      "GLPSOL--GLPK LP/MIP Solver 5.0\n",
      "Parameter(s) specified in the command line:\n",
      " --lp /var/folders/c3/657p__892k72qxh6r8fdkqsh0000gn/T/linopy-problem-tag9gein.lp\n",
      " --output /var/folders/c3/657p__892k72qxh6r8fdkqsh0000gn/T/linopy-solve-kbuil1ov.sol\n",
      "Reading problem data from '/var/folders/c3/657p__892k72qxh6r8fdkqsh0000gn/T/linopy-problem-tag9gein.lp'...\n",
      "11 rows, 5 columns, 15 non-zeros\n",
      "61 lines were read\n",
      "GLPK Simplex Optimizer 5.0\n",
      "11 rows, 5 columns, 15 non-zeros\n",
      "Preprocessing...\n",
      "PROBLEM HAS NO PRIMAL FEASIBLE SOLUTION\n",
      "If you need actual output for non-optimal solution, use --nopresol\n",
      "Time used:   0.0 secs\n",
      "Memory used: 0.0 Mb (32525 bytes)\n",
      "Writing basic solution to '/var/folders/c3/657p__892k72qxh6r8fdkqsh0000gn/T/linopy-solve-kbuil1ov.sol'...\n"
     ]
    },
    {
     "data": {
      "text/plain": [
       "('warning', 'infeasible_or_unbounded')"
      ]
     },
     "execution_count": 12,
     "metadata": {},
     "output_type": "execute_result"
    }
   ],
   "source": [
    "n.optimize()"
   ]
  }
 ],
 "metadata": {
  "kernelspec": {
   "display_name": "pypsa-earth",
   "language": "python",
   "name": "python3"
  },
  "language_info": {
   "codemirror_mode": {
    "name": "ipython",
    "version": 3
   },
   "file_extension": ".py",
   "mimetype": "text/x-python",
   "name": "python",
   "nbconvert_exporter": "python",
   "pygments_lexer": "ipython3",
   "version": "3.10.13"
  }
 },
 "nbformat": 4,
 "nbformat_minor": 2
}
