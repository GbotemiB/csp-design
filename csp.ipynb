{
 "cells": [
  {
   "cell_type": "code",
   "execution_count": 1,
   "metadata": {},
   "outputs": [
    {
     "name": "stderr",
     "output_type": "stream",
     "text": [
      "/Users/gbotemi/miniconda3/envs/pypsa-earth/lib/python3.10/site-packages/pypsa/networkclustering.py:16: UserWarning: The namespace `pypsa.networkclustering` is deprecated and will be removed in PyPSA v0.24. Please use `pypsa.clustering.spatial instead`. \n",
      "  warnings.warn(\n"
     ]
    }
   ],
   "source": [
    "import pypsa\n",
    "import numpy as np\n",
    "import pandas as pd"
   ]
  },
  {
   "cell_type": "code",
   "execution_count": 2,
   "metadata": {},
   "outputs": [
    {
     "name": "stderr",
     "output_type": "stream",
     "text": [
      "/Users/gbotemi/miniconda3/envs/pypsa-earth/lib/python3.10/site-packages/pypsa/components.py:318: FutureWarning: Setting an item of incompatible dtype is deprecated and will raise an error in a future version of pandas. Value '[]' has dtype incompatible with float64, please explicitly cast to a compatible dtype first.\n",
      "  attrs.loc[bool_b, \"default\"] = attrs.loc[bool_b].isin({True, \"True\"})\n",
      "/Users/gbotemi/miniconda3/envs/pypsa-earth/lib/python3.10/site-packages/pypsa/components.py:318: FutureWarning: Setting an item of incompatible dtype is deprecated and will raise an error in a future version of pandas. Value '[]' has dtype incompatible with float64, please explicitly cast to a compatible dtype first.\n",
      "  attrs.loc[bool_b, \"default\"] = attrs.loc[bool_b].isin({True, \"True\"})\n",
      "/Users/gbotemi/miniconda3/envs/pypsa-earth/lib/python3.10/site-packages/pypsa/components.py:318: FutureWarning: Setting an item of incompatible dtype is deprecated and will raise an error in a future version of pandas. Value '[]' has dtype incompatible with float64, please explicitly cast to a compatible dtype first.\n",
      "  attrs.loc[bool_b, \"default\"] = attrs.loc[bool_b].isin({True, \"True\"})\n",
      "/Users/gbotemi/miniconda3/envs/pypsa-earth/lib/python3.10/site-packages/pypsa/components.py:318: FutureWarning: Setting an item of incompatible dtype is deprecated and will raise an error in a future version of pandas. Value '[]' has dtype incompatible with float64, please explicitly cast to a compatible dtype first.\n",
      "  attrs.loc[bool_b, \"default\"] = attrs.loc[bool_b].isin({True, \"True\"})\n"
     ]
    }
   ],
   "source": [
    "# initialize network\n",
    "n = pypsa.Network()"
   ]
  },
  {
   "cell_type": "code",
   "execution_count": 3,
   "metadata": {},
   "outputs": [
    {
     "name": "stderr",
     "output_type": "stream",
     "text": [
      "/var/folders/c3/657p__892k72qxh6r8fdkqsh0000gn/T/ipykernel_21215/1932511106.py:2: FutureWarning: 'H' is deprecated and will be removed in a future version, please use 'h' instead.\n",
      "  index = pd.date_range(\"2024-01-01 00:00\", \"2024-01-01 23:00\", freq=\"H\")\n"
     ]
    }
   ],
   "source": [
    "# use 24 hour period for consideration\n",
    "index = pd.date_range(\"2024-01-01 00:00\", \"2024-01-01 23:00\", freq=\"H\")\n",
    "n.set_snapshots(index)"
   ]
  },
  {
   "cell_type": "code",
   "execution_count": 4,
   "metadata": {},
   "outputs": [],
   "source": [
    "np.random.seed(10)  # for reproducibility\n",
    "\n",
    "# time-varying inputs for generator, link and load\n",
    "p_nom_max = pd.Series(\n",
    "    (np.random.uniform() for idx in range(len(n.snapshots))),\n",
    "    index=n.snapshots, name=\"p_nom_max\"\n",
    ")\n",
    "\n",
    "link_var = pd.Series(\n",
    "    (np.random.uniform(len(n.snapshots))),\n",
    "    index=n.snapshots, name=\"link\"\n",
    ")\n",
    "\n",
    "load_var = pd.Series(\n",
    "    100 * np.random.rand(len(n.snapshots)), index=n.snapshots, name=\"load\"\n",
    ")"
   ]
  },
  {
   "cell_type": "code",
   "execution_count": 5,
   "metadata": {},
   "outputs": [],
   "source": [
    "# add carriers\n",
    "n.add(\"Carrier\", \"heat\")\n",
    "n.add(\"Carrier\", \"AC\")\n",
    "\n",
    "# add buses\n",
    "n.add(\"Bus\", \"csp_internal_bus\", carrier=\"heat\")\n",
    "n.add(\"Bus\", \"electricity_bus\", carrier=\"AC\")\n",
    "\n",
    "# add stores\n",
    "n.add(\"Store\", \"salt_tank\", bus=\"csp_internal_bus\",\n",
    "      standing_loss=0.01, capital_cost=600, e_nom_extendable=True)\n",
    "\n",
    "# add generator and store\n",
    "n.add(\"Generator\", \"receiver\", bus=\"csp_internal_bus\", p_set=100,\n",
    "      capital_cost=700, p_nom_extendable=True, p_max_pu=p_nom_max)\n",
    "\n",
    "# add links\n",
    "n.add(\"Link\", \"csp_turbine\", bus0=\"csp_internal_bus\", bus1=\"electricity_bus\",\n",
    "      efficiency=0.6, p_nom_extendable=True, capital_cost=1000, p_max_pu=link_var)\n",
    "\n",
    "# add load\n",
    "n.add(\"Load\", \"external_load\", bus=\"electricity_bus\", p_set=load_var)"
   ]
  },
  {
   "cell_type": "code",
   "execution_count": 6,
   "metadata": {},
   "outputs": [
    {
     "data": {
      "text/plain": [
       "PyPSA Network\n",
       "Components:\n",
       " - Bus: 2\n",
       " - Carrier: 2\n",
       " - Generator: 1\n",
       " - Link: 1\n",
       " - Load: 1\n",
       " - Store: 1\n",
       "Snapshots: 24"
      ]
     },
     "execution_count": 6,
     "metadata": {},
     "output_type": "execute_result"
    }
   ],
   "source": [
    "n"
   ]
  },
  {
   "cell_type": "code",
   "execution_count": 7,
   "metadata": {},
   "outputs": [
    {
     "name": "stderr",
     "output_type": "stream",
     "text": [
      "/Users/gbotemi/miniconda3/envs/pypsa-earth/lib/python3.10/site-packages/pypsa/optimization/constraints.py:516: FutureWarning: DataFrame.groupby with axis=1 is deprecated. Do `frame.T.groupby(...)` without axis instead.\n",
      "  (-get_as_dense(n, \"Load\", \"p_set\", sns) * n.loads.sign)\n",
      "INFO:linopy.model: Solve problem using Glpk solver\n",
      "INFO:linopy.io: Writing time: 0.03s\n",
      "INFO:linopy.constants: Optimization successful: \n",
      "Status: ok\n",
      "Termination condition: optimal\n",
      "Solution: 99 primals, 219 duals\n",
      "Objective: 2.51e+05\n",
      "Solver model: not available\n",
      "Solver message: optimal\n",
      "\n"
     ]
    },
    {
     "name": "stdout",
     "output_type": "stream",
     "text": [
      "GLPSOL--GLPK LP/MIP Solver 5.0\n",
      "Parameter(s) specified in the command line:\n",
      " --lp /var/folders/c3/657p__892k72qxh6r8fdkqsh0000gn/T/linopy-problem-4pzn3030.lp\n",
      " --output /var/folders/c3/657p__892k72qxh6r8fdkqsh0000gn/T/linopy-solve-eky8pp5j.sol\n",
      "Reading problem data from '/var/folders/c3/657p__892k72qxh6r8fdkqsh0000gn/T/linopy-problem-4pzn3030.lp'...\n",
      "219 rows, 99 columns, 386 non-zeros\n",
      "1147 lines were read\n",
      "GLPK Simplex Optimizer 5.0\n",
      "219 rows, 99 columns, 386 non-zeros\n",
      "Preprocessing...\n",
      "96 rows, 74 columns, 215 non-zeros\n",
      "Scaling...\n",
      " A: min|aij| =  3.948e-03  max|aij| =  1.000e+00  ratio =  2.533e+02\n",
      "GM: min|aij| =  5.604e-01  max|aij| =  1.785e+00  ratio =  3.185e+00\n",
      "EQ: min|aij| =  3.140e-01  max|aij| =  1.000e+00  ratio =  3.185e+00\n",
      "Constructing initial basis...\n",
      "Size of triangular part is 96\n",
      "      0: obj =   1.094401388e+04 inf =   1.902e+03 (24)\n",
      "     25: obj =   5.111214778e+05 inf =   0.000e+00 (0)\n",
      "*    34: obj =   2.512614409e+05 inf =   0.000e+00 (0)\n",
      "OPTIMAL LP SOLUTION FOUND\n",
      "Time used:   0.0 secs\n",
      "Memory used: 0.2 Mb (193079 bytes)\n",
      "Writing basic solution to '/var/folders/c3/657p__892k72qxh6r8fdkqsh0000gn/T/linopy-solve-eky8pp5j.sol'...\n"
     ]
    },
    {
     "name": "stderr",
     "output_type": "stream",
     "text": [
      "/Users/gbotemi/miniconda3/envs/pypsa-earth/lib/python3.10/site-packages/pypsa/optimization/optimize.py:333: FutureWarning: A value is trying to be set on a copy of a DataFrame or Series through chained assignment using an inplace method.\n",
      "The behavior will change in pandas 3.0. This inplace method will never work because the intermediate object on which we are setting values always behaves as a copy.\n",
      "\n",
      "For example, when doing 'df[col].method(value, inplace=True)', try using 'df.method({col: value}, inplace=True)' or df[col] = df[col].method(value) instead, to perform the operation inplace on the original object.\n",
      "\n",
      "\n",
      "  n.df(c)[attr + \"_opt\"].update(df)\n",
      "/Users/gbotemi/miniconda3/envs/pypsa-earth/lib/python3.10/site-packages/pypsa/optimization/optimize.py:435: FutureWarning: DataFrame.groupby with axis=1 is deprecated. Do `frame.T.groupby(...)` without axis instead.\n",
      "  pd.concat(\n"
     ]
    },
    {
     "data": {
      "text/plain": [
       "('ok', 'optimal')"
      ]
     },
     "execution_count": 7,
     "metadata": {},
     "output_type": "execute_result"
    }
   ],
   "source": [
    "n.optimize()"
   ]
  },
  {
   "cell_type": "code",
   "execution_count": 8,
   "metadata": {},
   "outputs": [
    {
     "data": {
      "text/plain": [
       "251261.4409"
      ]
     },
     "execution_count": 8,
     "metadata": {},
     "output_type": "execute_result"
    }
   ],
   "source": [
    "n.objective"
   ]
  }
 ],
 "metadata": {
  "kernelspec": {
   "display_name": "pypsa-earth",
   "language": "python",
   "name": "python3"
  },
  "language_info": {
   "codemirror_mode": {
    "name": "ipython",
    "version": 3
   },
   "file_extension": ".py",
   "mimetype": "text/x-python",
   "name": "python",
   "nbconvert_exporter": "python",
   "pygments_lexer": "ipython3",
   "version": "3.10.13"
  }
 },
 "nbformat": 4,
 "nbformat_minor": 2
}
